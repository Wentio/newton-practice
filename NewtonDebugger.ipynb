{
 "cells": [
  {
   "cell_type": "code",
   "execution_count": 1,
   "id": "547da136-6303-464e-bed1-3fb5e5c68576",
   "metadata": {},
   "outputs": [
    {
     "data": {
      "text/plain": [
       "'/home/jovyan/newton-practice'"
      ]
     },
     "execution_count": 1,
     "metadata": {},
     "output_type": "execute_result"
    }
   ],
   "source": [
    "import os\n",
    "os.getcwd()"
   ]
  },
  {
   "cell_type": "code",
   "execution_count": 5,
   "id": "dc09fa91-33c8-429a-9b7d-9ac052093c9e",
   "metadata": {
    "editable": true,
    "slideshow": {
     "slide_type": ""
    },
    "tags": []
   },
   "outputs": [],
   "source": [
    "import pdb\n",
    "import numpy as np"
   ]
  },
  {
   "cell_type": "code",
   "execution_count": null,
   "id": "fd8f10cc-2568-4131-8f34-9903355129f4",
   "metadata": {
    "editable": true,
    "slideshow": {
     "slide_type": ""
    },
    "tags": []
   },
   "outputs": [],
   "source": [
    "%debug\n",
    "\n",
    "def d(x, f):\n",
    "    \"\"\"\n",
    "    caculate the derivative\n",
    "\n",
    "    Parameters:\n",
    "    x: The value of x\n",
    "    f: The function\n",
    "\n",
    "    Returns:\n",
    "    the derivative of f at x\n",
    "    \"\"\"\n",
    "    e = 0.001\n",
    "    return (f(x + e) - f(x)) / e\n",
    "\n",
    "\n",
    "def dd(x, f):\n",
    "    \"\"\"\n",
    "    caculate the second derivative\n",
    "    \"\"\"\n",
    "    e = 0.001\n",
    "    return (d(x + e, f) - d(x, f)) / e\n",
    "\n",
    "\n",
    "def Newton(x0, f):\n",
    "    \"\"\"\n",
    "    caculate the second derivative\n",
    "    \"\"\"\n",
    "    if not callable(f):\n",
    "        raise TypeError(f\"Argument is not a function, it is of type {type(f)}\")\n",
    "    \n",
    "    x = [x0]  ##list，可更新\n",
    "    i = 0\n",
    "    while True:\n",
    "        df = d(x[i], f)\n",
    "        ddf = dd(x[i], f)  ##储存值，每次循环中只计算df、ddf，避免重复计算\n",
    "        \n",
    "        if ddf == 0:\n",
    "            print('Second derivative is 0!')  ##不然会报错\n",
    "            break\n",
    "        if i>=1000:\n",
    "            print('iteration exceed 1000 times')\n",
    "\n",
    "        #assert ddf == 0,'Second derivative is 0!'  ##不然会报错\n",
    "        #assert i>=1000,'iteration exceed 1000 times'\n",
    "        \n",
    "        x_new = x[i] - df / ddf\n",
    "        x.append(x_new)\n",
    "        if abs(df / ddf) < 0.0001:  ##绝对值 abs\n",
    "            break\n",
    "\n",
    "        i += 1  #\n",
    "    return (x[i],i,f(x[i]))\n"
   ]
  },
  {
   "cell_type": "markdown",
   "id": "39c7f842-1b06-4e7c-b5fe-02a0eaeff2f4",
   "metadata": {
    "editable": true,
    "slideshow": {
     "slide_type": ""
    },
    "tags": []
   },
   "source": [
    "如果使用assert，效果类似，但是是以报错的形式。"
   ]
  },
  {
   "cell_type": "code",
   "execution_count": 49,
   "id": "0b7734e1-09c4-42d7-8eb9-b15294c6f79d",
   "metadata": {
    "editable": true,
    "slideshow": {
     "slide_type": ""
    },
    "tags": []
   },
   "outputs": [
    {
     "name": "stdout",
     "output_type": "stream",
     "text": [
      "Second derivative is 0!\n"
     ]
    },
    {
     "data": {
      "text/plain": [
       "(-731.0781981390121, 712, 3.138863e-318)"
      ]
     },
     "execution_count": 49,
     "metadata": {},
     "output_type": "execute_result"
    }
   ],
   "source": [
    "import newton\n",
    "import numpy as np\n",
    "\n",
    "def f(x):\n",
    "    return x**3\n",
    "    \n",
    "Newton(-20, np.exp)"
   ]
  },
  {
   "cell_type": "code",
   "execution_count": 6,
   "id": "7d97424e-fd9c-43fc-b8c5-e129474df472",
   "metadata": {},
   "outputs": [
    {
     "data": {
      "text/plain": [
       "[2.95, 3.1434344656368594, 3.1410926461763524, 3.141092653589868]"
      ]
     },
     "execution_count": 6,
     "metadata": {},
     "output_type": "execute_result"
    }
   ],
   "source": [
    "Newton(2.95, np.cos)"
   ]
  },
  {
   "cell_type": "markdown",
   "id": "58201438-116d-4b0f-a20e-f2ecd3e1d8b9",
   "metadata": {},
   "source": [
    "debug method: IPython debugger (ipdb)\n",
    "\n"
   ]
  },
  {
   "cell_type": "code",
   "execution_count": null,
   "id": "566e79cc-09a9-4972-ad4f-0c48eeb7277b",
   "metadata": {},
   "outputs": [
    {
     "name": "stdout",
     "output_type": "stream",
     "text": [
      "> \u001b[0;32m/tmp/ipykernel_505/3994766240.py\u001b[0m(4)\u001b[0;36m<module>\u001b[0;34m()\u001b[0m\n",
      "\u001b[0;32m      1 \u001b[0;31m\u001b[0mget_ipython\u001b[0m\u001b[0;34m(\u001b[0m\u001b[0;34m)\u001b[0m\u001b[0;34m.\u001b[0m\u001b[0mrun_line_magic\u001b[0m\u001b[0;34m(\u001b[0m\u001b[0;34m'debug'\u001b[0m\u001b[0;34m,\u001b[0m \u001b[0;34m''\u001b[0m\u001b[0;34m)\u001b[0m\u001b[0;34m\u001b[0m\u001b[0;34m\u001b[0m\u001b[0m\n",
      "\u001b[0m\u001b[0;32m      2 \u001b[0;31m\u001b[0my\u001b[0m\u001b[0;34m=\u001b[0m\u001b[0;36m0\u001b[0m\u001b[0;34m\u001b[0m\u001b[0;34m\u001b[0m\u001b[0m\n",
      "\u001b[0m\u001b[0;32m      3 \u001b[0;31m\u001b[0mx\u001b[0m\u001b[0;34m=\u001b[0m\u001b[0;36m1\u001b[0m\u001b[0;34m\u001b[0m\u001b[0;34m\u001b[0m\u001b[0m\n",
      "\u001b[0m\u001b[0;32m----> 4 \u001b[0;31m\u001b[0mx\u001b[0m\u001b[0;34m/\u001b[0m\u001b[0my\u001b[0m\u001b[0;34m\u001b[0m\u001b[0;34m\u001b[0m\u001b[0m\n",
      "\u001b[0m\n"
     ]
    },
    {
     "name": "stdin",
     "output_type": "stream",
     "text": [
      "ipdb>  x\n"
     ]
    },
    {
     "name": "stdout",
     "output_type": "stream",
     "text": [
      "1\n"
     ]
    },
    {
     "name": "stdin",
     "output_type": "stream",
     "text": [
      "ipdb>  y\n"
     ]
    },
    {
     "name": "stdout",
     "output_type": "stream",
     "text": [
      "0\n"
     ]
    },
    {
     "name": "stdin",
     "output_type": "stream",
     "text": [
      "ipdb>  x/y\n"
     ]
    },
    {
     "name": "stdout",
     "output_type": "stream",
     "text": [
      "*** ZeroDivisionError: division by zero\n"
     ]
    }
   ],
   "source": [
    "%debug\n",
    "y=0\n",
    "x=1\n",
    "#pdb.set_trace()\n",
    "x/y"
   ]
  },
  {
   "cell_type": "code",
   "execution_count": null,
   "id": "65565110-5bf5-4832-b450-9b0ad89a0670",
   "metadata": {},
   "outputs": [],
   "source": []
  },
  {
   "cell_type": "code",
   "execution_count": null,
   "id": "7300e6eb-4b32-47c3-bd8c-8aebcb26bc23",
   "metadata": {},
   "outputs": [],
   "source": []
  }
 ],
 "metadata": {
  "kernelspec": {
   "display_name": "Python 3 (ipykernel)",
   "language": "python",
   "name": "python3"
  },
  "language_info": {
   "codemirror_mode": {
    "name": "ipython",
    "version": 3
   },
   "file_extension": ".py",
   "mimetype": "text/x-python",
   "name": "python",
   "nbconvert_exporter": "python",
   "pygments_lexer": "ipython3",
   "version": "3.11.9"
  }
 },
 "nbformat": 4,
 "nbformat_minor": 5
}
