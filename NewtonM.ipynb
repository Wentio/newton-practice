{
 "cells": [
  {
   "cell_type": "code",
   "execution_count": 1,
   "id": "978eb487-b473-4629-81b0-aeaa31df23f5",
   "metadata": {},
   "outputs": [],
   "source": [
    "import numpy as np\n",
    "\n"
   ]
  },
  {
   "cell_type": "code",
   "execution_count": 23,
   "id": "327d4789-f604-4010-b3d7-3ab2673f3122",
   "metadata": {},
   "outputs": [
    {
     "data": {
      "text/plain": [
       "array([2, 4, 8])"
      ]
     },
     "execution_count": 23,
     "metadata": {},
     "output_type": "execute_result"
    }
   ],
   "source": [
    "##Example for f\n",
    "def f(x,p=3):\n",
    "    x = np.array(x)\n",
    "    return np.array([x[0],x[1]**2,x[2]**3])\n",
    "\n",
    "f([2,2,2],3)\n"
   ]
  },
  {
   "cell_type": "code",
   "execution_count": 24,
   "id": "d3dd6c63-2a15-4ae8-8526-3849ddf8dcd5",
   "metadata": {},
   "outputs": [
    {
     "data": {
      "text/plain": [
       "array([ 1.      ,  4.001   , 12.006001])"
      ]
     },
     "execution_count": 24,
     "metadata": {},
     "output_type": "execute_result"
    }
   ],
   "source": [
    "def d(x, f):\n",
    "    \"\"\"\n",
    "    caculate the derivative\n",
    "\n",
    "    Parameters:\n",
    "    x: The value of x\n",
    "    f: The function\n",
    "\n",
    "    Returns:\n",
    "    the derivative of f at x\n",
    "    \"\"\"\n",
    "    x = np.array(x)\n",
    "    p = len(x)\n",
    "    e = 0.001*np.ones(p)\n",
    "    return (f(x + e) - f(x)) / 0.001\n",
    "\n",
    "d([2,2,2],f)"
   ]
  },
  {
   "cell_type": "code",
   "execution_count": 26,
   "id": "afa779b4-a2a5-4d92-9d14-85a1abae8476",
   "metadata": {},
   "outputs": [
    {
     "ename": "TypeError",
     "evalue": "'numpy.ndarray' object is not callable",
     "output_type": "error",
     "traceback": [
      "\u001b[0;31m---------------------------------------------------------------------------\u001b[0m",
      "\u001b[0;31mTypeError\u001b[0m                                 Traceback (most recent call last)",
      "Cell \u001b[0;32mIn[26], line 12\u001b[0m\n\u001b[1;32m      8\u001b[0m         H[:i] \u001b[38;5;241m=\u001b[39m d(x, d(x, f))\n\u001b[1;32m      9\u001b[0m     \u001b[38;5;28;01mreturn\u001b[39;00m H\n\u001b[0;32m---> 12\u001b[0m \u001b[43mH\u001b[49m\u001b[43m(\u001b[49m\u001b[43m[\u001b[49m\u001b[38;5;241;43m2\u001b[39;49m\u001b[43m,\u001b[49m\u001b[38;5;241;43m2\u001b[39;49m\u001b[43m,\u001b[49m\u001b[38;5;241;43m2\u001b[39;49m\u001b[43m]\u001b[49m\u001b[43m,\u001b[49m\u001b[43mf\u001b[49m\u001b[43m)\u001b[49m\n",
      "Cell \u001b[0;32mIn[26], line 8\u001b[0m, in \u001b[0;36mH\u001b[0;34m(x, f)\u001b[0m\n\u001b[1;32m      6\u001b[0m H \u001b[38;5;241m=\u001b[39m np\u001b[38;5;241m.\u001b[39mzeros((p, p))\n\u001b[1;32m      7\u001b[0m \u001b[38;5;28;01mfor\u001b[39;00m i \u001b[38;5;129;01min\u001b[39;00m \u001b[38;5;28mrange\u001b[39m(p):\n\u001b[0;32m----> 8\u001b[0m     H[:i] \u001b[38;5;241m=\u001b[39m \u001b[43md\u001b[49m\u001b[43m(\u001b[49m\u001b[43mx\u001b[49m\u001b[43m,\u001b[49m\u001b[43m \u001b[49m\u001b[43md\u001b[49m\u001b[43m(\u001b[49m\u001b[43mx\u001b[49m\u001b[43m,\u001b[49m\u001b[43m \u001b[49m\u001b[43mf\u001b[49m\u001b[43m)\u001b[49m\u001b[43m)\u001b[49m\n\u001b[1;32m      9\u001b[0m \u001b[38;5;28;01mreturn\u001b[39;00m H\n",
      "Cell \u001b[0;32mIn[24], line 15\u001b[0m, in \u001b[0;36md\u001b[0;34m(x, f)\u001b[0m\n\u001b[1;32m     13\u001b[0m p \u001b[38;5;241m=\u001b[39m \u001b[38;5;28mlen\u001b[39m(x)\n\u001b[1;32m     14\u001b[0m e \u001b[38;5;241m=\u001b[39m \u001b[38;5;241m0.001\u001b[39m\u001b[38;5;241m*\u001b[39mnp\u001b[38;5;241m.\u001b[39mones(p)\n\u001b[0;32m---> 15\u001b[0m \u001b[38;5;28;01mreturn\u001b[39;00m (\u001b[43mf\u001b[49m\u001b[43m(\u001b[49m\u001b[43mx\u001b[49m\u001b[43m \u001b[49m\u001b[38;5;241;43m+\u001b[39;49m\u001b[43m \u001b[49m\u001b[43me\u001b[49m\u001b[43m)\u001b[49m \u001b[38;5;241m-\u001b[39m f(x)) \u001b[38;5;241m/\u001b[39m \u001b[38;5;241m0.001\u001b[39m\n",
      "\u001b[0;31mTypeError\u001b[0m: 'numpy.ndarray' object is not callable"
     ]
    }
   ],
   "source": [
    "def H(x, f):\n",
    "    \"\"\"\n",
    "    caculate the second derivative\n",
    "    \"\"\"\n",
    "    x = np.array(x)\n",
    "    p = len(x)\n",
    "    H = np.zeros((p, p))\n",
    "    e = np.zeros(p)\n",
    "    for i in range(p):\n",
    "        e[i] = 0.001\n",
    "        np.ones(p)\n",
    "        H[:i] = (d(x+e, f) - d(x, f)) / 0.001\n",
    "    return H\n",
    "\n",
    "H([2,2,2],f)"
   ]
  },
  {
   "cell_type": "code",
   "execution_count": null,
   "id": "a232e672-9da3-4337-a95a-65b09b936a31",
   "metadata": {},
   "outputs": [],
   "source": []
  }
 ],
 "metadata": {
  "kernelspec": {
   "display_name": "Python 3 (ipykernel)",
   "language": "python",
   "name": "python3"
  },
  "language_info": {
   "codemirror_mode": {
    "name": "ipython",
    "version": 3
   },
   "file_extension": ".py",
   "mimetype": "text/x-python",
   "name": "python",
   "nbconvert_exporter": "python",
   "pygments_lexer": "ipython3",
   "version": "3.11.9"
  }
 },
 "nbformat": 4,
 "nbformat_minor": 5
}
